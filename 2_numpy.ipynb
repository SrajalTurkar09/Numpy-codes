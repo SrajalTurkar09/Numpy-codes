{
  "nbformat": 4,
  "nbformat_minor": 0,
  "metadata": {
    "colab": {
      "provenance": []
    },
    "kernelspec": {
      "name": "python3",
      "display_name": "Python 3"
    },
    "language_info": {
      "name": "python"
    }
  },
  "cells": [
    {
      "cell_type": "code",
      "execution_count": 1,
      "metadata": {
        "id": "XCfdsQ9HxVfb"
      },
      "outputs": [],
      "source": [
        "# Random numbers in numpy\n",
        "# what is random number\n",
        "# Random number does not mean a different every time . Random mean something that can not be predicted logically"
      ]
    },
    {
      "cell_type": "code",
      "source": [
        "from numpy import random\n",
        "for i in range(10):\n",
        "    print(random.randint(100))\n"
      ],
      "metadata": {
        "colab": {
          "base_uri": "https://localhost:8080/"
        },
        "id": "HNmARnHAyXyr",
        "outputId": "e2f9c74a-a851-4640-e2e3-4cc467adf0de"
      },
      "execution_count": 4,
      "outputs": [
        {
          "output_type": "stream",
          "name": "stdout",
          "text": [
            "26\n",
            "96\n",
            "34\n",
            "38\n",
            "99\n",
            "44\n",
            "62\n",
            "28\n",
            "38\n",
            "90\n"
          ]
        }
      ]
    },
    {
      "cell_type": "code",
      "source": [
        "# float\n",
        "print(random.rand(10))"
      ],
      "metadata": {
        "colab": {
          "base_uri": "https://localhost:8080/"
        },
        "id": "cuo5QfIIyegr",
        "outputId": "7ed6dcfa-21c0-40a2-fea4-f198a9939d5e"
      },
      "execution_count": 6,
      "outputs": [
        {
          "output_type": "stream",
          "name": "stdout",
          "text": [
            "[0.20797578 0.06147454 0.6296888  0.54449171 0.6969092  0.53426711\n",
            " 0.63696184 0.26468031 0.16067162 0.9315292 ]\n"
          ]
        }
      ]
    },
    {
      "cell_type": "code",
      "source": [
        "# array\n",
        "print(random.randint(100,size=(5,3)))"
      ],
      "metadata": {
        "colab": {
          "base_uri": "https://localhost:8080/"
        },
        "id": "VRdOEdIeyt-e",
        "outputId": "5909df89-9bad-4f73-91a5-497e20cf2df4"
      },
      "execution_count": 7,
      "outputs": [
        {
          "output_type": "stream",
          "name": "stdout",
          "text": [
            "[[14 55 35]\n",
            " [33 27 26]\n",
            " [82 86 77]\n",
            " [31 90 34]\n",
            " [88 24 25]]\n"
          ]
        }
      ]
    },
    {
      "cell_type": "code",
      "source": [
        "# choice\n",
        "\n",
        "print(random.choice([3,5,7,9]))"
      ],
      "metadata": {
        "colab": {
          "base_uri": "https://localhost:8080/"
        },
        "id": "9yidOAbzy4zp",
        "outputId": "e01c516e-623a-4312-cbf3-d0a94665843b"
      },
      "execution_count": 8,
      "outputs": [
        {
          "output_type": "stream",
          "name": "stdout",
          "text": [
            "3\n"
          ]
        }
      ]
    },
    {
      "cell_type": "code",
      "source": [
        "# random data distribution\n",
        "\n",
        "from numpy import random\n",
        "x = random.choice([4,6,8,2], p = [0.3,0.2,0.3,0.2], size=(10))\n",
        "print(x)"
      ],
      "metadata": {
        "colab": {
          "base_uri": "https://localhost:8080/"
        },
        "id": "K9EB7iq1y_es",
        "outputId": "012334b7-1875-4e73-d55e-f27e38952835"
      },
      "execution_count": 13,
      "outputs": [
        {
          "output_type": "stream",
          "name": "stdout",
          "text": [
            "[4 8 4 4 2 2 6 8 6 8]\n"
          ]
        }
      ]
    },
    {
      "cell_type": "code",
      "source": [
        "# random permutations\n",
        "\n",
        "# a permutation refers to an arrangement of element\n"
      ],
      "metadata": {
        "id": "j84tH8Fqzmmd"
      },
      "execution_count": 14,
      "outputs": []
    },
    {
      "cell_type": "code",
      "source": [
        "import numpy as np\n",
        "from numpy import random\n",
        "x = np.arange(10)\n",
        "print(x)\n",
        "random.shuffle(x)\n",
        "print(x)"
      ],
      "metadata": {
        "colab": {
          "base_uri": "https://localhost:8080/"
        },
        "id": "GlvUdi9e0UJc",
        "outputId": "931c6699-485a-4b77-c91e-a5c2396cf2af"
      },
      "execution_count": 15,
      "outputs": [
        {
          "output_type": "stream",
          "name": "stdout",
          "text": [
            "[0 1 2 3 4 5 6 7 8 9]\n",
            "[9 6 4 1 3 7 2 0 5 8]\n"
          ]
        }
      ]
    },
    {
      "cell_type": "code",
      "source": [
        "# ppermutation\n",
        "\n",
        "x = random.permutation(10)\n",
        "print(x)"
      ],
      "metadata": {
        "colab": {
          "base_uri": "https://localhost:8080/"
        },
        "id": "0UeYIBvb0cGF",
        "outputId": "a49c55c5-ff80-4138-f4af-8e09400545f0"
      },
      "execution_count": 16,
      "outputs": [
        {
          "output_type": "stream",
          "name": "stdout",
          "text": [
            "[6 5 8 2 0 9 1 3 4 7]\n"
          ]
        }
      ]
    },
    {
      "cell_type": "code",
      "source": [
        "# Noraml (gaussian) distribution\n",
        "\n",
        "\n",
        "from numpy import random\n",
        "x = random.normal(size=(2,3))\n",
        "print(x)\n",
        "\n",
        "\n",
        "# plot\n",
        "import seaborn as sns\n",
        "sns.distplot(x)"
      ],
      "metadata": {
        "colab": {
          "base_uri": "https://localhost:8080/",
          "height": 673
        },
        "id": "VyzBjeAJ0sLl",
        "outputId": "bac6bc26-8d25-43e2-ea63-6405acbafb0a"
      },
      "execution_count": 20,
      "outputs": [
        {
          "output_type": "stream",
          "name": "stdout",
          "text": [
            "[[1.38461996 0.13029009 2.04805438]\n",
            " [2.58489185 1.49566215 0.27273082]]\n"
          ]
        },
        {
          "output_type": "stream",
          "name": "stderr",
          "text": [
            "<ipython-input-20-5f013d4f97ec>:11: UserWarning: \n",
            "\n",
            "`distplot` is a deprecated function and will be removed in seaborn v0.14.0.\n",
            "\n",
            "Please adapt your code to use either `displot` (a figure-level function with\n",
            "similar flexibility) or `histplot` (an axes-level function for histograms).\n",
            "\n",
            "For a guide to updating your code to use the new functions, please see\n",
            "https://gist.github.com/mwaskom/de44147ed2974457ad6372750bbe5751\n",
            "\n",
            "  sns.distplot(x)\n"
          ]
        },
        {
          "output_type": "execute_result",
          "data": {
            "text/plain": [
              "<Axes: ylabel='Density'>"
            ]
          },
          "metadata": {},
          "execution_count": 20
        },
        {
          "output_type": "display_data",
          "data": {
            "text/plain": [
              "<Figure size 640x480 with 1 Axes>"
            ],
            "image/png": "[encoded data removed]"
          },
          "metadata": {}
        }
      ]
    },
    {
      "cell_type": "code",
      "source": [
        "# gererate a random normal distribution of size 2x3 with mean at 1 and standard deviation of 2:\n",
        "\n",
        "from numpy import random\n",
        "x = random.normal(loc=1, scale=2, size=(2,3))\n",
        "# loc is mean\n",
        "# scale is standard deviation\n",
        "print(x)\n",
        "\n",
        "\n",
        "sns.distplot(x)"
      ],
      "metadata": {
        "colab": {
          "base_uri": "https://localhost:8080/",
          "height": 673
        },
        "id": "mJVJNSWV1NUi",
        "outputId": "47d56ec8-b032-4305-a3a0-d896511036cf"
      },
      "execution_count": 22,
      "outputs": [
        {
          "output_type": "stream",
          "name": "stdout",
          "text": [
            "[[ 1.22900391 -2.83064477 -0.82399162]\n",
            " [ 1.79623164 -0.80991735 -0.20993432]]\n"
          ]
        },
        {
          "output_type": "stream",
          "name": "stderr",
          "text": [
            "<ipython-input-22-9a83dc6a73c4>:10: UserWarning: \n",
            "\n",
            "`distplot` is a deprecated function and will be removed in seaborn v0.14.0.\n",
            "\n",
            "Please adapt your code to use either `displot` (a figure-level function with\n",
            "similar flexibility) or `histplot` (an axes-level function for histograms).\n",
            "\n",
            "For a guide to updating your code to use the new functions, please see\n",
            "https://gist.github.com/mwaskom/de44147ed2974457ad6372750bbe5751\n",
            "\n",
            "  sns.distplot(x)\n"
          ]
        },
        {
          "output_type": "execute_result",
          "data": {
            "text/plain": [
              "<Axes: ylabel='Density'>"
            ]
          },
          "metadata": {},
          "execution_count": 22
        },
        {
          "output_type": "display_data",
          "data": {
            "text/plain": [
              "<Figure size 640x480 with 1 Axes>"
            ],
            "image/png": "[encoded data removed]"
          },
          "metadata": {}
        }
      ]
    },
    {
      "cell_type": "code",
      "source": [
        "# Binomial distribution\n",
        "\n",
        "\n",
        "from numpy import random\n",
        "x = random.binomial(n=10, p=0.5, size = (2,3))\n",
        "print(x)\n",
        "\n",
        "\n",
        "# plot\n",
        "import seaborn as sns\n",
        "sns.distplot(x)"
      ],
      "metadata": {
        "colab": {
          "base_uri": "https://localhost:8080/",
          "height": 678
        },
        "id": "WcFaxu9Z13VY",
        "outputId": "3b6a318a-306c-43da-c7ca-2b9b32a0f2e6"
      },
      "execution_count": 26,
      "outputs": [
        {
          "output_type": "stream",
          "name": "stdout",
          "text": [
            "[[6 6 4]\n",
            " [5 5 4]]\n"
          ]
        },
        {
          "output_type": "stream",
          "name": "stderr",
          "text": [
            "<ipython-input-26-a2d3d8187934>:11: UserWarning: \n",
            "\n",
            "`distplot` is a deprecated function and will be removed in seaborn v0.14.0.\n",
            "\n",
            "Please adapt your code to use either `displot` (a figure-level function with\n",
            "similar flexibility) or `histplot` (an axes-level function for histograms).\n",
            "\n",
            "For a guide to updating your code to use the new functions, please see\n",
            "https://gist.github.com/mwaskom/de44147ed2974457ad6372750bbe5751\n",
            "\n",
            "  sns.distplot(x)\n"
          ]
        },
        {
          "output_type": "execute_result",
          "data": {
            "text/plain": [
              "<Axes: ylabel='Density'>"
            ]
          },
          "metadata": {},
          "execution_count": 26
        },
        {
          "output_type": "display_data",
          "data": {
            "text/plain": [
              "<Figure size 640x480 with 1 Axes>"
            ],
            "image/png": "[encoded data removed]"
          },
          "metadata": {}
        }
      ]
    },
    {
      "cell_type": "code",
      "source": [
        "sns.distplot(random.binomial(n=10, p=0.5, size = (10000,10), hist = True , kde = False))\n",
        "plt.show()\n"
      ],
      "metadata": {
        "colab": {
          "base_uri": "https://localhost:8080/",
          "height": 193
        },
        "id": "VlwxIH1S2SA1",
        "outputId": "1e23fa20-62c6-4237-bf03-52049e260166"
      },
      "execution_count": 28,
      "outputs": [
        {
          "output_type": "error",
          "ename": "TypeError",
          "evalue": "binomial() got an unexpected keyword argument 'hist'",
          "traceback": [
            "\u001b[0;31m---------------------------------------------------------------------------\u001b[0m",
            "\u001b[0;31mTypeError\u001b[0m                                 Traceback (most recent call last)",
            "\u001b[0;32m<ipython-input-28-6751d05dee1d>\u001b[0m in \u001b[0;36m<cell line: 1>\u001b[0;34m()\u001b[0m\n\u001b[0;32m----> 1\u001b[0;31m \u001b[0msns\u001b[0m\u001b[0;34m.\u001b[0m\u001b[0mdistplot\u001b[0m\u001b[0;34m(\u001b[0m\u001b[0mrandom\u001b[0m\u001b[0;34m.\u001b[0m\u001b[0mbinomial\u001b[0m\u001b[0;34m(\u001b[0m\u001b[0mn\u001b[0m\u001b[0;34m=\u001b[0m\u001b[0;36m10\u001b[0m\u001b[0;34m,\u001b[0m \u001b[0mp\u001b[0m\u001b[0;34m=\u001b[0m\u001b[0;36m0.5\u001b[0m\u001b[0;34m,\u001b[0m \u001b[0msize\u001b[0m \u001b[0;34m=\u001b[0m \u001b[0;34m(\u001b[0m\u001b[0;36m10000\u001b[0m\u001b[0;34m,\u001b[0m\u001b[0;36m10\u001b[0m\u001b[0;34m)\u001b[0m\u001b[0;34m,\u001b[0m \u001b[0mhist\u001b[0m \u001b[0;34m=\u001b[0m \u001b[0;32mTrue\u001b[0m \u001b[0;34m,\u001b[0m \u001b[0mkde\u001b[0m \u001b[0;34m=\u001b[0m \u001b[0;32mFalse\u001b[0m\u001b[0;34m)\u001b[0m\u001b[0;34m)\u001b[0m\u001b[0;34m\u001b[0m\u001b[0;34m\u001b[0m\u001b[0m\n\u001b[0m\u001b[1;32m      2\u001b[0m \u001b[0mplt\u001b[0m\u001b[0;34m.\u001b[0m\u001b[0mshow\u001b[0m\u001b[0;34m(\u001b[0m\u001b[0;34m)\u001b[0m\u001b[0;34m\u001b[0m\u001b[0;34m\u001b[0m\u001b[0m\n",
            "\u001b[0;32mmtrand.pyx\u001b[0m in \u001b[0;36mnumpy.random.mtrand.RandomState.binomial\u001b[0;34m()\u001b[0m\n",
            "\u001b[0;31mTypeError\u001b[0m: binomial() got an unexpected keyword argument 'hist'"
          ]
        }
      ]
    },
    {
      "cell_type": "code",
      "source": [
        "# Poisson distribution\n",
        "\n",
        "# lam is rate or number of occurance\n",
        "# size\n",
        "\n",
        "from numpy import random\n",
        "x = random.poisson(lam=2, size=(2,3))\n",
        "print(x)\n",
        "\n",
        "# plot\n",
        "import seaborn as sns\n",
        "sns.distplot(x)"
      ],
      "metadata": {
        "colab": {
          "base_uri": "https://localhost:8080/",
          "height": 678
        },
        "id": "raQrAqFI2x6S",
        "outputId": "3abdbf3d-afcb-4e30-9267-264b5215f425"
      },
      "execution_count": 30,
      "outputs": [
        {
          "output_type": "stream",
          "name": "stdout",
          "text": [
            "[[2 0 2]\n",
            " [1 2 3]]\n"
          ]
        },
        {
          "output_type": "stream",
          "name": "stderr",
          "text": [
            "<ipython-input-30-9e626369d8e9>:12: UserWarning: \n",
            "\n",
            "`distplot` is a deprecated function and will be removed in seaborn v0.14.0.\n",
            "\n",
            "Please adapt your code to use either `displot` (a figure-level function with\n",
            "similar flexibility) or `histplot` (an axes-level function for histograms).\n",
            "\n",
            "For a guide to updating your code to use the new functions, please see\n",
            "https://gist.github.com/mwaskom/de44147ed2974457ad6372750bbe5751\n",
            "\n",
            "  sns.distplot(x)\n"
          ]
        },
        {
          "output_type": "execute_result",
          "data": {
            "text/plain": [
              "<Axes: ylabel='Density'>"
            ]
          },
          "metadata": {},
          "execution_count": 30
        },
        {
          "output_type": "display_data",
          "data": {
            "text/plain": [
              "<Figure size 640x480 with 1 Axes>"
            ],
            "image/png": "[encoded data removed]"
          },
          "metadata": {}
        }
      ]
    },
    {
      "cell_type": "code",
      "source": [
        "# Numpy Ufuncs\n",
        "\n",
        "# universal functions\n",
        "\n",
        "# zip()\n",
        "\n",
        "x = [1,2,3]\n",
        "y = [4,5,6]\n",
        "z = []\n",
        "for i,j in zip(x,y):\n",
        "    z.append(i+j)\n",
        "print(z)"
      ],
      "metadata": {
        "colab": {
          "base_uri": "https://localhost:8080/"
        },
        "id": "rMzM4Rym3ZIN",
        "outputId": "799a4c90-661a-4bb1-8878-8246f81596da"
      },
      "execution_count": 31,
      "outputs": [
        {
          "output_type": "stream",
          "name": "stdout",
          "text": [
            "[5, 7, 9]\n"
          ]
        }
      ]
    },
    {
      "cell_type": "code",
      "source": [
        "# add()\n",
        "\n",
        "# subtract()\n",
        "# multiply()\n",
        "# divide()\n",
        "# power()\n",
        "# mod()\n",
        "\n",
        "\n",
        "x = [1,2,3]\n",
        "y = [4,5,6]\n",
        "z = np.add(x,y)\n",
        "print(z)"
      ],
      "metadata": {
        "colab": {
          "base_uri": "https://localhost:8080/"
        },
        "id": "a743jlGR4qBA",
        "outputId": "4370d714-ad0f-4608-fc4e-9a8257e6e7ef"
      },
      "execution_count": 32,
      "outputs": [
        {
          "output_type": "stream",
          "name": "stdout",
          "text": [
            "[5 7 9]\n"
          ]
        }
      ]
    },
    {
      "cell_type": "code",
      "source": [
        "# create your own  ufumc\n",
        "\n",
        "\n",
        "\n",
        "def myadd(x,y):\n",
        "    return x+y\n",
        "\n",
        "myadd = np.frompyfunc(myadd, 2, 1)\n",
        "print(myadd([1,2,3], [4,5,6]))\n"
      ],
      "metadata": {
        "colab": {
          "base_uri": "https://localhost:8080/"
        },
        "id": "4KvDka3n41Cw",
        "outputId": "13ae93e0-fc71-40c1-ed51-e7cda492918b"
      },
      "execution_count": 34,
      "outputs": [
        {
          "output_type": "stream",
          "name": "stdout",
          "text": [
            "[5 7 9]\n"
          ]
        }
      ]
    },
    {
      "cell_type": "code",
      "source": [
        "# is fucntion is ufunction\n",
        "\n",
        "\n",
        "print(type(np.add))"
      ],
      "metadata": {
        "colab": {
          "base_uri": "https://localhost:8080/"
        },
        "id": "_A9hSpy5494T",
        "outputId": "8db6669c-e015-42b2-ec3c-ca7812f79e75"
      },
      "execution_count": 35,
      "outputs": [
        {
          "output_type": "stream",
          "name": "stdout",
          "text": [
            "<class 'numpy.ufunc'>\n"
          ]
        }
      ]
    },
    {
      "cell_type": "code",
      "source": [
        "print(type(np.concatenate))"
      ],
      "metadata": {
        "colab": {
          "base_uri": "https://localhost:8080/"
        },
        "id": "nyf_yiS_5TWC",
        "outputId": "457c1678-a4ff-4fca-8b42-923ab0b06fb9"
      },
      "execution_count": 36,
      "outputs": [
        {
          "output_type": "stream",
          "name": "stdout",
          "text": [
            "<class 'numpy._ArrayFunctionDispatcher'>\n"
          ]
        }
      ]
    },
    {
      "cell_type": "code",
      "source": [
        "# simple arithmatic operations\n",
        "\n",
        "# add\n",
        "# subtract\n",
        "# multiplication\n",
        "# division\n",
        "# power\n",
        "\n",
        "\n",
        "arr1 = np.array([10,20,30,40])\n",
        "arr2 = np.array([1,2,3,4])\n",
        "\n",
        "add = np.add(arr1, arr2)\n",
        "print(add)\n",
        "sub = np.subtract(arr1, arr2)\n",
        "print(sub)\n",
        "mul = np.multiply(arr1, arr2)\n",
        "print(mul)\n",
        "div = np.divide(arr1, arr2)\n",
        "print(div)\n",
        "pow = np.power(arr1, arr2)\n",
        "print(pow)"
      ],
      "metadata": {
        "colab": {
          "base_uri": "https://localhost:8080/"
        },
        "id": "W8pBOgp25aZ9",
        "outputId": "64cd98fe-7db8-46b0-f285-d146ca14e0c1"
      },
      "execution_count": 37,
      "outputs": [
        {
          "output_type": "stream",
          "name": "stdout",
          "text": [
            "[11 22 33 44]\n",
            "[ 9 18 27 36]\n",
            "[ 10  40  90 160]\n",
            "[10. 10. 10. 10.]\n",
            "[     10     400   27000 2560000]\n"
          ]
        }
      ]
    },
    {
      "cell_type": "code",
      "source": [
        "# Rounding decimals\n",
        "\n",
        "# truncation\n",
        "# fix\n",
        "# rounding\n",
        "# floor\n",
        "# ciel\n",
        "\n",
        "\n",
        "import numpy as np\n",
        "arr = np.trunc([-3.1666, 3.6667])\n",
        "print(arr)"
      ],
      "metadata": {
        "colab": {
          "base_uri": "https://localhost:8080/"
        },
        "id": "8f1zdHZV54wq",
        "outputId": "e21f97d7-9070-4e7c-8786-6018b460dd42"
      },
      "execution_count": 38,
      "outputs": [
        {
          "output_type": "stream",
          "name": "stdout",
          "text": [
            "[-3.  3.]\n"
          ]
        }
      ]
    },
    {
      "cell_type": "code",
      "source": [
        "# fix\n",
        "\n",
        "arr = np.fix([-3.1666, 3.6667])\n",
        "print(arr)"
      ],
      "metadata": {
        "colab": {
          "base_uri": "https://localhost:8080/"
        },
        "id": "p2v3_wq36Pfz",
        "outputId": "33590bf9-34e1-4c3e-f903-58a4031c2423"
      },
      "execution_count": 40,
      "outputs": [
        {
          "output_type": "stream",
          "name": "stdout",
          "text": [
            "[-3.  3.]\n"
          ]
        }
      ]
    },
    {
      "cell_type": "code",
      "source": [
        "# rounding\n",
        "\n",
        "# arr = np.around(3.163, 2)\n",
        "print(arr)"
      ],
      "metadata": {
        "colab": {
          "base_uri": "https://localhost:8080/"
        },
        "id": "2ISgY78M6ZLM",
        "outputId": "002d3b97-769f-4b58-a034-93369fdb6d56"
      },
      "execution_count": 45,
      "outputs": [
        {
          "output_type": "stream",
          "name": "stdout",
          "text": [
            "3.16\n"
          ]
        }
      ]
    },
    {
      "cell_type": "code",
      "source": [
        "# floor\n",
        "\n",
        "arr = np.floor([-3.1666, 3.6667])\n",
        "print(arr)"
      ],
      "metadata": {
        "colab": {
          "base_uri": "https://localhost:8080/"
        },
        "id": "te6XRrdD6g-X",
        "outputId": "2e58ad8a-fd9b-4453-84e5-6a2f73c8ac22"
      },
      "execution_count": 46,
      "outputs": [
        {
          "output_type": "stream",
          "name": "stdout",
          "text": [
            "[-4.  3.]\n"
          ]
        }
      ]
    },
    {
      "cell_type": "code",
      "source": [
        "# ciel\n",
        "\n",
        "arr = np.ceil([-3.1666, 3.6667])\n",
        "print(arr)"
      ],
      "metadata": {
        "colab": {
          "base_uri": "https://localhost:8080/"
        },
        "id": "hQXmjV8k6zKn",
        "outputId": "168a6b1d-c66a-4f97-d38f-43c1ae141897"
      },
      "execution_count": 47,
      "outputs": [
        {
          "output_type": "stream",
          "name": "stdout",
          "text": [
            "[-3.  4.]\n"
          ]
        }
      ]
    },
    {
      "cell_type": "code",
      "source": [
        "# LOG AT BASE 2\n",
        "\n",
        "# log10\n",
        "# log2\n",
        "# log\n",
        "\n",
        "\n",
        "import numpy as np\n",
        "arr = np.log10(100)\n",
        "print(arr)\n",
        "\n",
        "arr2 = np.log2(100)\n",
        "print(arr2)\n",
        "\n",
        "arr3 = np.log(100)\n",
        "print(arr3)"
      ],
      "metadata": {
        "colab": {
          "base_uri": "https://localhost:8080/"
        },
        "id": "iGuMulfq68Wn",
        "outputId": "0b549d33-d4dc-497b-c190-a77d10a27b9b"
      },
      "execution_count": 49,
      "outputs": [
        {
          "output_type": "stream",
          "name": "stdout",
          "text": [
            "2.0\n",
            "6.643856189774724\n",
            "4.605170185988092\n"
          ]
        }
      ]
    },
    {
      "cell_type": "code",
      "source": [
        "# summation\n",
        "import numpy as np\n",
        "arr = np.array([1,2,3,4])\n",
        "arr2 = np.sum(arr)\n",
        "print(arr2)\n",
        "print(np.sum(arr))"
      ],
      "metadata": {
        "colab": {
          "base_uri": "https://localhost:8080/"
        },
        "id": "RXWXfUws7OAd",
        "outputId": "0711fee9-7591-43f7-c853-00ec802514c8"
      },
      "execution_count": 51,
      "outputs": [
        {
          "output_type": "stream",
          "name": "stdout",
          "text": [
            "10\n",
            "10\n"
          ]
        }
      ]
    },
    {
      "cell_type": "code",
      "source": [
        "arr1 = np.array([[1,2,3], [4,5,6]])\n",
        "arr2 = np.sum(arr1, axis =1 )\n",
        "print(arr2)"
      ],
      "metadata": {
        "colab": {
          "base_uri": "https://localhost:8080/"
        },
        "id": "D5r8bM497oDA",
        "outputId": "d8d590eb-1452-4f76-8898-9e0e060a6bdc"
      },
      "execution_count": 52,
      "outputs": [
        {
          "output_type": "stream",
          "name": "stdout",
          "text": [
            "[ 6 15]\n"
          ]
        }
      ]
    },
    {
      "cell_type": "code",
      "source": [
        "# cummulative sum\n",
        "\n",
        "# eg :- the partial sum of [1,2,3,4] would be [1,1+2,1+2+3,1+2+3+4] = [1,3,6,10]\n",
        "\n",
        "arr = np.array([1,2,3,4])\n",
        "arr2 = np.cumsum(arr)\n",
        "print(arr2)"
      ],
      "metadata": {
        "colab": {
          "base_uri": "https://localhost:8080/"
        },
        "id": "g_TJzmQb7zBK",
        "outputId": "71a06965-c201-4f78-e85f-f0941aff26d6"
      },
      "execution_count": 53,
      "outputs": [
        {
          "output_type": "stream",
          "name": "stdout",
          "text": [
            "[ 1  3  6 10]\n"
          ]
        }
      ]
    },
    {
      "cell_type": "code",
      "source": [
        "# products\n",
        "# prod()\n",
        "\n",
        "\n",
        "\n",
        "import numpy as np\n",
        "arr = np.array([1,2,3,4])\n",
        "arr2 = np.prod(arr)\n",
        "print(arr2)"
      ],
      "metadata": {
        "colab": {
          "base_uri": "https://localhost:8080/"
        },
        "id": "JuAPI5EH8M3N",
        "outputId": "5065f598-a21f-46f5-ce29-3a2403bc511a"
      },
      "execution_count": 55,
      "outputs": [
        {
          "output_type": "stream",
          "name": "stdout",
          "text": [
            "24\n"
          ]
        }
      ]
    },
    {
      "cell_type": "code",
      "source": [
        "arr1 = np.array([[1,2,3], [4,5,6]])\n",
        "arr2 = np.prod(arr1, axis =1 )\n",
        "print(arr2)"
      ],
      "metadata": {
        "colab": {
          "base_uri": "https://localhost:8080/"
        },
        "id": "wDAdykKd8X6h",
        "outputId": "114596fe-1e46-4f86-f9a5-ad6c703da4ea"
      },
      "execution_count": 56,
      "outputs": [
        {
          "output_type": "stream",
          "name": "stdout",
          "text": [
            "[  6 120]\n"
          ]
        }
      ]
    },
    {
      "cell_type": "code",
      "source": [
        "# commulative product\n",
        "\n",
        "import numpy as np\n",
        "arr = np.array([1,2,3,4])\n",
        "arr2 = np.cumprod(arr)\n",
        "print(arr2)"
      ],
      "metadata": {
        "colab": {
          "base_uri": "https://localhost:8080/"
        },
        "id": "yFHOHAfd8or3",
        "outputId": "97b07f34-b122-4667-aa47-4e7d3555a503"
      },
      "execution_count": 57,
      "outputs": [
        {
          "output_type": "stream",
          "name": "stdout",
          "text": [
            "[ 1  2  6 24]\n"
          ]
        }
      ]
    },
    {
      "cell_type": "code",
      "source": [
        "# numpy difference\n",
        "\n",
        "arr = np.array([10,15,20,25])\n",
        "arr2 = np.diff(arr)\n",
        "print(arr2)"
      ],
      "metadata": {
        "colab": {
          "base_uri": "https://localhost:8080/"
        },
        "id": "Sh5BBFwh82Tr",
        "outputId": "653d1a07-8c54-44c8-e668-fb7d31d9f716"
      },
      "execution_count": 58,
      "outputs": [
        {
          "output_type": "stream",
          "name": "stdout",
          "text": [
            "[5 5 5]\n"
          ]
        }
      ]
    },
    {
      "cell_type": "code",
      "source": [
        "# LCM\n",
        "\n",
        "num1 = 4\n",
        "num2 = 6\n",
        "lcm = (num1*num2)//np.gcd(num1, num2)\n",
        "print(lcm)\n",
        "\n",
        "print(np.lcm(4,6))"
      ],
      "metadata": {
        "colab": {
          "base_uri": "https://localhost:8080/"
        },
        "id": "4Hg0y2tE9BJv",
        "outputId": "7b9683e0-ee47-4684-df98-cb66ce47a66a"
      },
      "execution_count": 60,
      "outputs": [
        {
          "output_type": "stream",
          "name": "stdout",
          "text": [
            "12\n",
            "12\n"
          ]
        }
      ]
    },
    {
      "cell_type": "code",
      "source": [
        "# GCD\n",
        "\n",
        "# what is\n",
        "\n",
        "num1 = 4\n",
        "num2 = 10\n",
        "gcd = np.gcd(num1, num2)\n",
        "print(gcd)"
      ],
      "metadata": {
        "colab": {
          "base_uri": "https://localhost:8080/"
        },
        "id": "0FHxbebJ9IKy",
        "outputId": "43b2e6af-c0ea-4f9c-f987-49612d4421bb"
      },
      "execution_count": 62,
      "outputs": [
        {
          "output_type": "stream",
          "name": "stdout",
          "text": [
            "2\n"
          ]
        }
      ]
    },
    {
      "cell_type": "code",
      "source": [
        "# Trigonometric function\n",
        "\n",
        "# sin\n",
        "# cos\n",
        "# tan\n",
        "# arcsin\n",
        "# arccos\n",
        "# arctan\n",
        "\n",
        "x = np.sin(np.pi/2)\n",
        "print(x)"
      ],
      "metadata": {
        "colab": {
          "base_uri": "https://localhost:8080/"
        },
        "id": "jSZTiJwo9dHT",
        "outputId": "b2dfe955-4c33-4fa4-c239-22759eb705f7"
      },
      "execution_count": 63,
      "outputs": [
        {
          "output_type": "stream",
          "name": "stdout",
          "text": [
            "1.0\n"
          ]
        }
      ]
    },
    {
      "cell_type": "code",
      "source": [
        "P"
      ],
      "metadata": {
        "id": "eolbSyBu9oZY"
      },
      "execution_count": null,
      "outputs": []
    }
  ]
}